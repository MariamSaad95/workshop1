{
 "cells": [
  {
   "cell_type": "markdown",
   "id": "3726596c-1554-48ec-840f-93980d5a4900",
   "metadata": {},
   "source": [
    "1-Factorial num.."
   ]
  },
  {
   "cell_type": "code",
   "execution_count": 1,
   "id": "b747d0b3-b57c-4944-a13d-1b61750958a4",
   "metadata": {},
   "outputs": [
    {
     "name": "stdin",
     "output_type": "stream",
     "text": [
      "enter your number: 7\n"
     ]
    },
    {
     "name": "stdout",
     "output_type": "stream",
     "text": [
      "1\n",
      "2\n",
      "6\n",
      "24\n",
      "120\n",
      "720\n",
      "5040\n"
     ]
    }
   ],
   "source": [
    "x = int(input(\"enter your number:\"))\n",
    "fac=1\n",
    "for i in range(1,x+1):\n",
    "    fac=fac*i\n",
    "    print(fac)\n"
   ]
  },
  {
   "cell_type": "markdown",
   "id": "bb017dd2-4897-4fa2-b30b-9f6d7028b6d0",
   "metadata": {},
   "source": [
    "#########2-fibonacii sequence###########\n"
   ]
  },
  {
   "cell_type": "code",
   "execution_count": null,
   "id": "5e8104ae-84ec-4761-8561-704230d284b1",
   "metadata": {},
   "outputs": [],
   "source": []
  },
  {
   "cell_type": "markdown",
   "id": "d72dd5f0-0662-4085-984d-51c0fe634e69",
   "metadata": {},
   "source": [
    "######3-count the num of occurences of a character in the string########"
   ]
  },
  {
   "cell_type": "code",
   "execution_count": 2,
   "id": "f137cf18-502b-4813-86fe-8ece64505887",
   "metadata": {},
   "outputs": [
    {
     "data": {
      "text/plain": [
       "4"
      ]
     },
     "execution_count": 2,
     "metadata": {},
     "output_type": "execute_result"
    }
   ],
   "source": [
    "i = (\"we should help poor people\")\n",
    "i.count(\"p\")\n"
   ]
  },
  {
   "cell_type": "markdown",
   "id": "a6dd63f3-c163-480a-90a4-bc4910407cc3",
   "metadata": {},
   "source": [
    "#############4- find the largest number###########"
   ]
  },
  {
   "cell_type": "code",
   "execution_count": 3,
   "id": "12659585-6e04-4841-a33f-4d0c766700e8",
   "metadata": {},
   "outputs": [],
   "source": [
    "my_list = [12,35,66,4147,3566,24]"
   ]
  },
  {
   "cell_type": "code",
   "execution_count": 4,
   "id": "3fc07d0c-1350-4176-a200-f122fda4d8a1",
   "metadata": {},
   "outputs": [],
   "source": [
    "my_list.sort()"
   ]
  },
  {
   "cell_type": "code",
   "execution_count": 5,
   "id": "4c79cc46-f7db-4f05-969b-81b150086fb2",
   "metadata": {},
   "outputs": [
    {
     "data": {
      "text/plain": [
       "[12, 24, 35, 66, 3566, 4147]"
      ]
     },
     "execution_count": 5,
     "metadata": {},
     "output_type": "execute_result"
    }
   ],
   "source": [
    "my_list"
   ]
  },
  {
   "cell_type": "code",
   "execution_count": 6,
   "id": "04b481af-f560-49df-a4ed-43cc744e1783",
   "metadata": {},
   "outputs": [
    {
     "data": {
      "text/plain": [
       "4147"
      ]
     },
     "execution_count": 6,
     "metadata": {},
     "output_type": "execute_result"
    }
   ],
   "source": [
    "my_list[-1]"
   ]
  },
  {
   "cell_type": "markdown",
   "id": "83d15d58-3759-47b7-998c-2d97e99474b6",
   "metadata": {},
   "source": [
    "#####5-check if the number is a perfect square###########\n"
   ]
  },
  {
   "cell_type": "code",
   "execution_count": 7,
   "id": "65fa3ffb-0e08-4e4b-901f-94628d87c5c1",
   "metadata": {},
   "outputs": [],
   "source": [
    "import math"
   ]
  },
  {
   "cell_type": "code",
   "execution_count": 10,
   "id": "8d1b2257-d474-422e-a12b-499d52629de6",
   "metadata": {},
   "outputs": [
    {
     "name": "stdin",
     "output_type": "stream",
     "text": [
      "enter a number 5\n"
     ]
    },
    {
     "name": "stdout",
     "output_type": "stream",
     "text": [
      "5 is perfect square\n"
     ]
    }
   ],
   "source": [
    "num = int(input(\"enter a number\"))\n",
    "q=math.sqrt(num)\n",
    "if int( q**2) == num:\n",
    "    print(num ,\"is perfect square\")\n",
    "else:\n",
    "    print(num,\"isn't perfect square\")"
   ]
  },
  {
   "cell_type": "markdown",
   "id": "281b13fb-115b-43bf-93f1-361859acd36f",
   "metadata": {},
   "source": [
    "##############6-calculate the area of circle##########"
   ]
  },
  {
   "cell_type": "code",
   "execution_count": 13,
   "id": "fdd16fbf-8c18-4ab3-8706-2bc7c72b4d9d",
   "metadata": {},
   "outputs": [
    {
     "name": "stdin",
     "output_type": "stream",
     "text": [
      "enter a radius 2.3\n"
     ]
    },
    {
     "name": "stdout",
     "output_type": "stream",
     "text": [
      "16.610599999999998\n"
     ]
    }
   ],
   "source": [
    "Pi = (3.14)\n",
    "r = float(input(\"enter a radius\"))\n",
    "\n",
    "Area = Pi *( r**2)\n",
    "print(Area)"
   ]
  },
  {
   "cell_type": "code",
   "execution_count": null,
   "id": "2923b9b7-fb09-4bfa-a7bc-f3851017b9ad",
   "metadata": {},
   "outputs": [],
   "source": []
  }
 ],
 "metadata": {
  "kernelspec": {
   "display_name": "Python 3 (ipykernel)",
   "language": "python",
   "name": "python3"
  },
  "language_info": {
   "codemirror_mode": {
    "name": "ipython",
    "version": 3
   },
   "file_extension": ".py",
   "mimetype": "text/x-python",
   "name": "python",
   "nbconvert_exporter": "python",
   "pygments_lexer": "ipython3",
   "version": "3.9.13"
  }
 },
 "nbformat": 4,
 "nbformat_minor": 5
}
